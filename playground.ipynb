{
  "nbformat": 4,
  "nbformat_minor": 0,
  "metadata": {
    "kernelspec": {
      "display_name": "Python 3 (ipykernel)",
      "language": "python",
      "name": "python3"
    },
    "language_info": {
      "codemirror_mode": {
        "name": "ipython",
        "version": 3
      },
      "file_extension": ".py",
      "mimetype": "text/x-python",
      "name": "python",
      "nbconvert_exporter": "python",
      "pygments_lexer": "ipython3",
      "version": "3.8.6"
    },
    "toc": {
      "base_numbering": 1,
      "nav_menu": {},
      "number_sections": false,
      "sideBar": true,
      "skip_h1_title": false,
      "title_cell": "Table of Contents",
      "title_sidebar": "Contents",
      "toc_cell": false,
      "toc_position": {},
      "toc_section_display": true,
      "toc_window_display": true
    },
    "varInspector": {
      "cols": {
        "lenName": 16,
        "lenType": 16,
        "lenVar": 40
      },
      "kernels_config": {
        "python": {
          "delete_cmd_postfix": "",
          "delete_cmd_prefix": "del ",
          "library": "var_list.py",
          "varRefreshCmd": "print(var_dic_list())"
        },
        "r": {
          "delete_cmd_postfix": ") ",
          "delete_cmd_prefix": "rm(",
          "library": "var_list.r",
          "varRefreshCmd": "cat(var_dic_list()) "
        }
      },
      "types_to_exclude": [
        "module",
        "function",
        "builtin_function_or_method",
        "instance",
        "_Feature"
      ],
      "window_display": false
    },
    "colab": {
      "name": "playground.ipynb",
      "provenance": [],
      "include_colab_link": true
    }
  },
  "cells": [
    {
      "cell_type": "markdown",
      "metadata": {
        "id": "view-in-github",
        "colab_type": "text"
      },
      "source": [
        "<a href=\"https://colab.research.google.com/github/saraiside/data-setup/blob/master/playground.ipynb\" target=\"_parent\"><img src=\"https://colab.research.google.com/assets/colab-badge.svg\" alt=\"Open In Colab\"/></a>"
      ]
    },
    {
      "cell_type": "markdown",
      "metadata": {
        "id": "09c8aryWB1hz"
      },
      "source": [
        "# Deep Learning week - Day 1 - Playground\n",
        "\n",
        "### Objectives:\n",
        "\n",
        "- Get a visual representation of Neural Networks\n",
        "- Get a better intuition of what Neural Networks are doing\n",
        "\n",
        "<hr>\n",
        "\n",
        "This first exercise does not require much code"
      ]
    },
    {
      "cell_type": "markdown",
      "metadata": {
        "id": "gRWfmcRuB1iB"
      },
      "source": [
        "# 1 - The data\n",
        "\n",
        "Let's go on the [Playground](https://playground.tensorflow.org/#activation=tanh&batchSize=10&dataset=spiral&regDataset=reg-plane&learningRate=0.03&regularizationRate=0&noise=0&networkShape=2&seed=0.23545&showTestData=false&discretize=false&percTrainData=70&x=true&y=true&xTimesY=false&xSquared=false&ySquared=false&cosX=false&sinX=false&cosY=false&sinY=false&collectStats=false&problem=classification&initZero=false&hideText=false&regularization_hide=true&showTestData_hide=false&stepButton_hide=false&activation_hide=false&problem_hide=false&batchSize_hide=true&dataset_hide=false&resetButton_hide=false&discretize_hide=false&playButton_hide=false&learningRate_hide=true&regularizationRate_hide=true&percTrainData_hide=false&numHiddenLayers_hide=false) and select the following type of data : \n",
        "\n",
        "- A classification problem \n",
        "- The circle dataset (blue dots inside a circle of oranges dots)\n",
        "- Ratio of training to test data : 70%\n",
        "- No noise (=0)\n",
        "- Do not show test data (right panel) and do not discretize the output\n",
        "- Activation function: `ReLU` (💡In general, try it by default. It appears to work better for many problems!)[Note: Playground only allows you to select **one** activation function used for **all** the **hidden** layers]\n"
      ]
    },
    {
      "cell_type": "markdown",
      "metadata": {
        "id": "SVM6J1O5B1iC"
      },
      "source": [
        "# 2 - The features\n",
        "\n",
        "Here, select only the features $X_1$ and $X_2$ - unselect the other features if necessary.\n",
        "\n",
        "❓ Question ❓ In the case where you use the other variables, as $X_1^{2}$, $X_2^{2}$, $X_1 X_2$, $sin(X_1)$ and $sin(X_2)$, what type of classic Machine Learning operation does it corresponds to?\n",
        "\n",
        "<details>\n",
        "    <summary>Answer</summary>\n",
        "\n",
        "It corresponds to some type of feature engineering where you transform them (by multiplication or by applying a sinus).\n",
        "\n",
        "</details>\n",
        "\n",
        "Here, in this exercise but also tomorrow, we will only use the raw input features $X_1$ and $X_2$. "
      ]
    },
    {
      "cell_type": "markdown",
      "metadata": {
        "id": "0EoHxXXIB1iD"
      },
      "source": [
        "# 3 - Fit"
      ]
    },
    {
      "cell_type": "markdown",
      "metadata": {
        "id": "jZDoRY9nB1iE"
      },
      "source": [
        "Build a model that has : \n",
        "- three hidden layers\n",
        "- 5 neurons on the first hidden layer\n",
        "- 4 neurons on the second hidden layer\n",
        "- 3 neurons on the last hidden layer\n",
        "- In Playground, the output layer is not represented: Fot such binary classification task, it will automatically be a dense layer with 1 neuron activated by sigmoid\n",
        "\n",
        "Fit it and stop iterations when loss has stabilized.\n",
        "\n",
        "\n",
        "❓ Question ❓ \n",
        "\n",
        "- Look at the individual neurons and try to understand what each neuron specializes in (after the fit)?\n",
        "- What do you think about the overall shape your results? Try with different activation to compare. Can you make it work with \"Linear\"?"
      ]
    },
    {
      "cell_type": "markdown",
      "metadata": {
        "tags": [
          "challengify"
        ],
        "id": "kEnc7uc5B1iF"
      },
      "source": [
        ""
      ]
    },
    {
      "cell_type": "markdown",
      "metadata": {
        "id": "rsf4vHJgB1iG"
      },
      "source": [
        "# 4 - Neural network in Keras\n",
        "\n",
        "Let's write the same model - at least the architecture - in Keras. It will corresponds to the following code."
      ]
    },
    {
      "cell_type": "code",
      "metadata": {
        "id": "aJHYg4pZB1iI"
      },
      "source": [
        "from tensorflow.keras import models\n",
        "from tensorflow.keras import layers\n",
        "\n",
        "model = models.Sequential()\n",
        "\n",
        "model.add(layers.Dense(5, activation='relu', input_dim=2)) # First hidden layer with 5 neurons\n",
        "model.add(layers.Dense(4, activation='relu')) # Second hidden layer with 4 neurons\n",
        "model.add(layers.Dense(3, activation='relu')) # Third hidden layer with 3 neurons\n",
        "\n",
        "# Output layer that outputs a probability which is\n",
        "# necessary in the case of a 2 class classification problem\n",
        "model.add(layers.Dense(1, activation='sigmoid')) \n",
        "\n",
        "# For now, let's skip the model.compile() and the model.fit()"
      ],
      "execution_count": 2,
      "outputs": []
    },
    {
      "cell_type": "markdown",
      "metadata": {
        "id": "fM-fHY90B1iN"
      },
      "source": [
        "The `input_dim` of the first layer corresponds to the number of input features, which is 2 here, $X_1$ and $X_2$. It is mandatory for the first layer. The fact that you here define a `Sequential` model makes the following layer aware of the input size based on the output size of the previous layers"
      ]
    },
    {
      "cell_type": "markdown",
      "metadata": {
        "id": "YUeUh3fcB1iP"
      },
      "source": [
        "# 5 - Change the dataset\n",
        "\n",
        "Change the dataset for the \"XOR - Exclusive Or\".\n",
        "\n",
        "❓ Question ❓ \n",
        "- Go back to Playground and try to design a model with two hidden layers (you are free to choose the number of neurons per layer yourself) that has a very small **test loss**. \n",
        "- Once you have your model on Playground, write it below with the Keras library"
      ]
    },
    {
      "cell_type": "code",
      "metadata": {
        "tags": [
          "challengify"
        ],
        "id": "UPpvyM_TB1iP"
      },
      "source": [
        "model = models.Sequential()\n",
        "\n",
        "model.add(layers.Dense(4, activation='relu', input_dim=2)) # First hidden layer with 5 neurons\n",
        "model.add(layers.Dense(4, activation='relu')) # Second hidden layer with 4 neurons\n",
        "model.add(layers.Dense(2, activation='relu'))\n",
        "model.add(layers.Dense(1, activation='sigmoid')) "
      ],
      "execution_count": 6,
      "outputs": []
    },
    {
      "cell_type": "markdown",
      "metadata": {
        "id": "c0_cSMQLB1iQ"
      },
      "source": [
        "❓ Question ❓ Try to repeat the same process with the **Spiral**! "
      ]
    },
    {
      "cell_type": "code",
      "metadata": {
        "tags": [
          "challengify"
        ],
        "id": "r72jUYBfB1iQ"
      },
      "source": [
        "model = models.Sequential()\n",
        "\n",
        "model.add(layers.Dense(4, activation='relu', input_dim=2)) # First hidden layer with 5 neurons\n",
        "model.add(layers.Dense(4, activation='relu')) # Second hidden layer with 4 neurons\n",
        "model.add(layers.Dense(2, activation='relu'))\n",
        "#model.add(layers.Dense(1, activation='spiral')) "
      ],
      "execution_count": 8,
      "outputs": []
    },
    {
      "cell_type": "markdown",
      "metadata": {
        "id": "R-YO2OKdB1iR"
      },
      "source": [
        "☝️ Much more weights are needed to fit this dataset, isn't it?\n",
        "\n",
        "With deep enough models, you can pretty much fit any pattern.  The problem is about avoiding **overfitting**. Add a good deal of noise and you _may_ see your model learning \"too much\" on this noise. We will see in the next day of the module how to manage overfitting.\n",
        "\n",
        "&nbsp;\n",
        "\n",
        "<details>\n",
        "    <summary>A picture of overfitting in Playground</summary>\n",
        "    \n",
        "<img src='https://github.com/lewagon/data-images/blob/master/DL/playground-overfitting.png?raw=true' width=700 style='margin:auto'>\n",
        "</details>"
      ]
    },
    {
      "cell_type": "markdown",
      "metadata": {
        "id": "9jLSLTmbB1iS"
      },
      "source": [
        "# 6 - Regression\n",
        "\n",
        "Now, switch the problem type to a regression problem. \n",
        "\n",
        "This time, the last layer will no longer look like  \n",
        "`model.add(layers.Dense(1, activation='sigmoid'))`\n",
        "\n",
        "but instead  \n",
        "`model.add(layers.Dense(1, activation='linear'))`\n",
        "\n",
        "meaning that you output 1 final value which is between $ -\\infty$ and $+ \\infty$ \n",
        "\n",
        "❓ Question ❓ Find on Playground a neural network that fits well the second regression dataset and write its architecture in Keras : "
      ]
    },
    {
      "cell_type": "code",
      "metadata": {
        "tags": [
          "challengify"
        ],
        "id": "0LdJlpvbB1iT"
      },
      "source": [
        "model = models.Sequential()\n",
        "\n",
        "model.add(layers.Dense(4, activation='relu', input_dim=2)) # First hidden layer with 5 neurons\n",
        "model.add(layers.Dense(4, activation='relu')) # Second hidden layer with 4 neurons\n",
        "model.add(layers.Dense(2, activation='relu'))\n",
        "model.add(layers.Dense(1, activation='linear')) "
      ],
      "execution_count": 9,
      "outputs": []
    },
    {
      "cell_type": "markdown",
      "metadata": {
        "id": "sCbzNK87B1iT"
      },
      "source": [
        "### 🏁 You are now ready to do the same things with Keras directly !\n",
        "Don't forget to commit and push your notebook"
      ]
    },
    {
      "cell_type": "code",
      "metadata": {
        "colab": {
          "base_uri": "https://localhost:8080/"
        },
        "id": "mehAPAebJRrC",
        "outputId": "23c4626a-fe7c-4c95-9018-429532af8dd9"
      },
      "source": [
        "!git status"
      ],
      "execution_count": 16,
      "outputs": [
        {
          "output_type": "stream",
          "name": "stdout",
          "text": [
            "fatal: not a git repository (or any of the parent directories): .git\n"
          ]
        }
      ]
    },
    {
      "cell_type": "code",
      "metadata": {
        "id": "phMkswhwN6lQ"
      },
      "source": [
        ""
      ],
      "execution_count": null,
      "outputs": []
    }
  ]
}